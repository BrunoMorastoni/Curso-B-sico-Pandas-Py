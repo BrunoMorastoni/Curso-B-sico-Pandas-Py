{
  "nbformat": 4,
  "nbformat_minor": 0,
  "metadata": {
    "colab": {
      "provenance": [],
      "authorship_tag": "ABX9TyOA/P0iQTaBSN2uR/1fXq1w",
      "include_colab_link": true
    },
    "kernelspec": {
      "name": "python3",
      "display_name": "Python 3"
    },
    "language_info": {
      "name": "python"
    }
  },
  "cells": [
    {
      "cell_type": "markdown",
      "metadata": {
        "id": "view-in-github",
        "colab_type": "text"
      },
      "source": [
        "<a href=\"https://colab.research.google.com/github/BrunoMorastoni/Curso-Basico-Pandas-Py/blob/main/Aula08_02_23.ipynb\" target=\"_parent\"><img src=\"https://colab.research.google.com/assets/colab-badge.svg\" alt=\"Open In Colab\"/></a>"
      ]
    },
    {
      "cell_type": "markdown",
      "source": [
        "# ***Exemplo de manipulação de dados usando o Panda Py***\n",
        "\n",
        "Autor: Bruno Giuseppe Morastoni\n",
        "\n",
        "Data: (06/02/23)\n",
        "\n",
        "Dados usados: [1º semestre de 2022](https://www.gov.br/anp/pt-br/centrais-de-conteudo/dados-abertos/arquivos/shpc/dsas/ca/precos-semestrais-ca.zip)"
      ],
      "metadata": {
        "id": "54FHMqhfUcNL"
      }
    },
    {
      "cell_type": "code",
      "execution_count": 1,
      "metadata": {
        "id": "cu_QK2Z5DjsT"
      },
      "outputs": [],
      "source": [
        "import pandas as pd"
      ]
    },
    {
      "cell_type": "code",
      "source": [
        "combustiveis_df = pd.read_excel(\"ca-2021-02.xlsx\")"
      ],
      "metadata": {
        "id": "mCXRprJW9aAC"
      },
      "execution_count": 3,
      "outputs": []
    },
    {
      "cell_type": "code",
      "source": [
        "# Meio feio # [Imprime a planilha] #\n",
        "print(combustiveis_df)"
      ],
      "metadata": {
        "id": "2nf4PkXfBfhu"
      },
      "execution_count": null,
      "outputs": []
    },
    {
      "cell_type": "code",
      "source": [
        "# Mais bonitinho # [Imprime a planilha / só q mais bonito] #\n",
        "display(combustiveis_df)"
      ],
      "metadata": {
        "id": "gwN28YTSCJKw"
      },
      "execution_count": null,
      "outputs": []
    },
    {
      "cell_type": "code",
      "source": [
        "# Exibição das x primeiras linhas # # display(combustiveis_df.head(x))\n",
        "display(combustiveis_df.head(5))"
      ],
      "metadata": {
        "id": "OgVHlcIuE-Bn"
      },
      "execution_count": null,
      "outputs": []
    },
    {
      "cell_type": "code",
      "source": [
        "# Cmd Dataframe.shape # [Apenas Nº de linhas e colunas / respectivamentes] #\n",
        "display(combustiveis_df.shape)\n",
        "display(combustiveis_df.shape[0])\n",
        "display(combustiveis_df.shape[1])"
      ],
      "metadata": {
        "id": "xHCTHWl8Hl7u"
      },
      "execution_count": null,
      "outputs": []
    },
    {
      "cell_type": "code",
      "source": [
        "# Cmd Dataframe.describe() # [Mostra estástisticas básicas] #\n",
        "display(combustiveis_df.describe())"
      ],
      "metadata": {
        "id": "aQR4CJiiIrOz"
      },
      "execution_count": null,
      "outputs": []
    },
    {
      "cell_type": "code",
      "source": [
        "# Cmd Dataframe.info() # [Mostra as colunas e os tipos de dados] #\n",
        "display(combustiveis_df.info())"
      ],
      "metadata": {
        "id": "1kcUGUQeKiRN"
      },
      "execution_count": null,
      "outputs": []
    },
    {
      "cell_type": "markdown",
      "source": [
        "# ***Começando a Filtrar as infos:***"
      ],
      "metadata": {
        "id": "Cj4QLdZZWwM2"
      }
    },
    {
      "cell_type": "code",
      "source": [
        "# Filtrando apenas uma coluna #\n",
        "display(combustiveis_df['Revenda'])"
      ],
      "metadata": {
        "colab": {
          "base_uri": "https://localhost:8080/",
          "height": 238
        },
        "id": "-HFiGjEiW3NN",
        "outputId": "08615779-3fdd-4e70-c8f9-fff70498a9fd"
      },
      "execution_count": 4,
      "outputs": [
        {
          "output_type": "display_data",
          "data": {
            "text/plain": [
              "0                               POSTO ARAPIRACA LTDA\n",
              "1                               POSTO ARAPIRACA LTDA\n",
              "2                               POSTO ARAPIRACA LTDA\n",
              "3                               POSTO ARAPIRACA LTDA\n",
              "4                               POSTO ARAPIRACA LTDA\n",
              "                             ...                    \n",
              "168404    COMERCIAL DE COMBUSTIVEL CACHOEIRINHA LTDA\n",
              "168405             ABC DISTRIBUICAO DE PETROLEO LTDA\n",
              "168406             ABC DISTRIBUICAO DE PETROLEO LTDA\n",
              "168407             ABC DISTRIBUICAO DE PETROLEO LTDA\n",
              "168408             ABC DISTRIBUICAO DE PETROLEO LTDA\n",
              "Name: Revenda, Length: 168409, dtype: object"
            ]
          },
          "metadata": {}
        }
      ]
    },
    {
      "cell_type": "code",
      "source": [
        "# Novo datadrame com colunas delimitadas *\n",
        "ca_df = combustiveis_df[['Revenda', 'Municipio', 'Produto', 'Valor de Venda']]\n",
        "\n",
        "display(ca_df)"
      ],
      "metadata": {
        "colab": {
          "base_uri": "https://localhost:8080/",
          "height": 423
        },
        "id": "m46OkjPgZvgz",
        "outputId": "6f47527d-73aa-42ec-a4de-14b6c5a17860"
      },
      "execution_count": 6,
      "outputs": [
        {
          "output_type": "display_data",
          "data": {
            "text/plain": [
              "                                           Revenda  Municipio  \\\n",
              "0                             POSTO ARAPIRACA LTDA  ARAPIRACA   \n",
              "1                             POSTO ARAPIRACA LTDA  ARAPIRACA   \n",
              "2                             POSTO ARAPIRACA LTDA  ARAPIRACA   \n",
              "3                             POSTO ARAPIRACA LTDA  ARAPIRACA   \n",
              "4                             POSTO ARAPIRACA LTDA  ARAPIRACA   \n",
              "...                                            ...        ...   \n",
              "168404  COMERCIAL DE COMBUSTIVEL CACHOEIRINHA LTDA     JEQUIE   \n",
              "168405           ABC DISTRIBUICAO DE PETROLEO LTDA  ITUIUTABA   \n",
              "168406           ABC DISTRIBUICAO DE PETROLEO LTDA  ITUIUTABA   \n",
              "168407           ABC DISTRIBUICAO DE PETROLEO LTDA  ITUIUTABA   \n",
              "168408           ABC DISTRIBUICAO DE PETROLEO LTDA  ITUIUTABA   \n",
              "\n",
              "                   Produto  Valor de Venda  \n",
              "0                 GASOLINA           6.799  \n",
              "1                   ETANOL           5.299  \n",
              "2                   DIESEL           5.549  \n",
              "3       GASOLINA ADITIVADA           6.899  \n",
              "4               DIESEL S10           5.649  \n",
              "...                    ...             ...  \n",
              "168404              ETANOL           5.859  \n",
              "168405            GASOLINA           6.580  \n",
              "168406              ETANOL           4.740  \n",
              "168407          DIESEL S10           5.448  \n",
              "168408  GASOLINA ADITIVADA           6.580  \n",
              "\n",
              "[168409 rows x 4 columns]"
            ],
            "text/html": [
              "\n",
              "  <div id=\"df-61f88071-1a19-4042-9252-588c0f638b5b\">\n",
              "    <div class=\"colab-df-container\">\n",
              "      <div>\n",
              "<style scoped>\n",
              "    .dataframe tbody tr th:only-of-type {\n",
              "        vertical-align: middle;\n",
              "    }\n",
              "\n",
              "    .dataframe tbody tr th {\n",
              "        vertical-align: top;\n",
              "    }\n",
              "\n",
              "    .dataframe thead th {\n",
              "        text-align: right;\n",
              "    }\n",
              "</style>\n",
              "<table border=\"1\" class=\"dataframe\">\n",
              "  <thead>\n",
              "    <tr style=\"text-align: right;\">\n",
              "      <th></th>\n",
              "      <th>Revenda</th>\n",
              "      <th>Municipio</th>\n",
              "      <th>Produto</th>\n",
              "      <th>Valor de Venda</th>\n",
              "    </tr>\n",
              "  </thead>\n",
              "  <tbody>\n",
              "    <tr>\n",
              "      <th>0</th>\n",
              "      <td>POSTO ARAPIRACA LTDA</td>\n",
              "      <td>ARAPIRACA</td>\n",
              "      <td>GASOLINA</td>\n",
              "      <td>6.799</td>\n",
              "    </tr>\n",
              "    <tr>\n",
              "      <th>1</th>\n",
              "      <td>POSTO ARAPIRACA LTDA</td>\n",
              "      <td>ARAPIRACA</td>\n",
              "      <td>ETANOL</td>\n",
              "      <td>5.299</td>\n",
              "    </tr>\n",
              "    <tr>\n",
              "      <th>2</th>\n",
              "      <td>POSTO ARAPIRACA LTDA</td>\n",
              "      <td>ARAPIRACA</td>\n",
              "      <td>DIESEL</td>\n",
              "      <td>5.549</td>\n",
              "    </tr>\n",
              "    <tr>\n",
              "      <th>3</th>\n",
              "      <td>POSTO ARAPIRACA LTDA</td>\n",
              "      <td>ARAPIRACA</td>\n",
              "      <td>GASOLINA ADITIVADA</td>\n",
              "      <td>6.899</td>\n",
              "    </tr>\n",
              "    <tr>\n",
              "      <th>4</th>\n",
              "      <td>POSTO ARAPIRACA LTDA</td>\n",
              "      <td>ARAPIRACA</td>\n",
              "      <td>DIESEL S10</td>\n",
              "      <td>5.649</td>\n",
              "    </tr>\n",
              "    <tr>\n",
              "      <th>...</th>\n",
              "      <td>...</td>\n",
              "      <td>...</td>\n",
              "      <td>...</td>\n",
              "      <td>...</td>\n",
              "    </tr>\n",
              "    <tr>\n",
              "      <th>168404</th>\n",
              "      <td>COMERCIAL DE COMBUSTIVEL CACHOEIRINHA LTDA</td>\n",
              "      <td>JEQUIE</td>\n",
              "      <td>ETANOL</td>\n",
              "      <td>5.859</td>\n",
              "    </tr>\n",
              "    <tr>\n",
              "      <th>168405</th>\n",
              "      <td>ABC DISTRIBUICAO DE PETROLEO LTDA</td>\n",
              "      <td>ITUIUTABA</td>\n",
              "      <td>GASOLINA</td>\n",
              "      <td>6.580</td>\n",
              "    </tr>\n",
              "    <tr>\n",
              "      <th>168406</th>\n",
              "      <td>ABC DISTRIBUICAO DE PETROLEO LTDA</td>\n",
              "      <td>ITUIUTABA</td>\n",
              "      <td>ETANOL</td>\n",
              "      <td>4.740</td>\n",
              "    </tr>\n",
              "    <tr>\n",
              "      <th>168407</th>\n",
              "      <td>ABC DISTRIBUICAO DE PETROLEO LTDA</td>\n",
              "      <td>ITUIUTABA</td>\n",
              "      <td>DIESEL S10</td>\n",
              "      <td>5.448</td>\n",
              "    </tr>\n",
              "    <tr>\n",
              "      <th>168408</th>\n",
              "      <td>ABC DISTRIBUICAO DE PETROLEO LTDA</td>\n",
              "      <td>ITUIUTABA</td>\n",
              "      <td>GASOLINA ADITIVADA</td>\n",
              "      <td>6.580</td>\n",
              "    </tr>\n",
              "  </tbody>\n",
              "</table>\n",
              "<p>168409 rows × 4 columns</p>\n",
              "</div>\n",
              "      <button class=\"colab-df-convert\" onclick=\"convertToInteractive('df-61f88071-1a19-4042-9252-588c0f638b5b')\"\n",
              "              title=\"Convert this dataframe to an interactive table.\"\n",
              "              style=\"display:none;\">\n",
              "        \n",
              "  <svg xmlns=\"http://www.w3.org/2000/svg\" height=\"24px\"viewBox=\"0 0 24 24\"\n",
              "       width=\"24px\">\n",
              "    <path d=\"M0 0h24v24H0V0z\" fill=\"none\"/>\n",
              "    <path d=\"M18.56 5.44l.94 2.06.94-2.06 2.06-.94-2.06-.94-.94-2.06-.94 2.06-2.06.94zm-11 1L8.5 8.5l.94-2.06 2.06-.94-2.06-.94L8.5 2.5l-.94 2.06-2.06.94zm10 10l.94 2.06.94-2.06 2.06-.94-2.06-.94-.94-2.06-.94 2.06-2.06.94z\"/><path d=\"M17.41 7.96l-1.37-1.37c-.4-.4-.92-.59-1.43-.59-.52 0-1.04.2-1.43.59L10.3 9.45l-7.72 7.72c-.78.78-.78 2.05 0 2.83L4 21.41c.39.39.9.59 1.41.59.51 0 1.02-.2 1.41-.59l7.78-7.78 2.81-2.81c.8-.78.8-2.07 0-2.86zM5.41 20L4 18.59l7.72-7.72 1.47 1.35L5.41 20z\"/>\n",
              "  </svg>\n",
              "      </button>\n",
              "      \n",
              "  <style>\n",
              "    .colab-df-container {\n",
              "      display:flex;\n",
              "      flex-wrap:wrap;\n",
              "      gap: 12px;\n",
              "    }\n",
              "\n",
              "    .colab-df-convert {\n",
              "      background-color: #E8F0FE;\n",
              "      border: none;\n",
              "      border-radius: 50%;\n",
              "      cursor: pointer;\n",
              "      display: none;\n",
              "      fill: #1967D2;\n",
              "      height: 32px;\n",
              "      padding: 0 0 0 0;\n",
              "      width: 32px;\n",
              "    }\n",
              "\n",
              "    .colab-df-convert:hover {\n",
              "      background-color: #E2EBFA;\n",
              "      box-shadow: 0px 1px 2px rgba(60, 64, 67, 0.3), 0px 1px 3px 1px rgba(60, 64, 67, 0.15);\n",
              "      fill: #174EA6;\n",
              "    }\n",
              "\n",
              "    [theme=dark] .colab-df-convert {\n",
              "      background-color: #3B4455;\n",
              "      fill: #D2E3FC;\n",
              "    }\n",
              "\n",
              "    [theme=dark] .colab-df-convert:hover {\n",
              "      background-color: #434B5C;\n",
              "      box-shadow: 0px 1px 3px 1px rgba(0, 0, 0, 0.15);\n",
              "      filter: drop-shadow(0px 1px 2px rgba(0, 0, 0, 0.3));\n",
              "      fill: #FFFFFF;\n",
              "    }\n",
              "  </style>\n",
              "\n",
              "      <script>\n",
              "        const buttonEl =\n",
              "          document.querySelector('#df-61f88071-1a19-4042-9252-588c0f638b5b button.colab-df-convert');\n",
              "        buttonEl.style.display =\n",
              "          google.colab.kernel.accessAllowed ? 'block' : 'none';\n",
              "\n",
              "        async function convertToInteractive(key) {\n",
              "          const element = document.querySelector('#df-61f88071-1a19-4042-9252-588c0f638b5b');\n",
              "          const dataTable =\n",
              "            await google.colab.kernel.invokeFunction('convertToInteractive',\n",
              "                                                     [key], {});\n",
              "          if (!dataTable) return;\n",
              "\n",
              "          const docLinkHtml = 'Like what you see? Visit the ' +\n",
              "            '<a target=\"_blank\" href=https://colab.research.google.com/notebooks/data_table.ipynb>data table notebook</a>'\n",
              "            + ' to learn more about interactive tables.';\n",
              "          element.innerHTML = '';\n",
              "          dataTable['output_type'] = 'display_data';\n",
              "          await google.colab.output.renderOutput(dataTable, element);\n",
              "          const docLink = document.createElement('div');\n",
              "          docLink.innerHTML = docLinkHtml;\n",
              "          element.appendChild(docLink);\n",
              "        }\n",
              "      </script>\n",
              "    </div>\n",
              "  </div>\n",
              "  "
            ]
          },
          "metadata": {}
        }
      ]
    },
    {
      "cell_type": "code",
      "source": [
        "# Exibição da 4ª linha com o loc #\n",
        "display(ca_df.loc[3])"
      ],
      "metadata": {
        "id": "t0WMyfU5byl2"
      },
      "execution_count": null,
      "outputs": []
    },
    {
      "cell_type": "code",
      "source": [
        "# Exibição da 10ª linha té a 20ª linha #\n",
        "display(ca_df.loc[9:19])"
      ],
      "metadata": {
        "id": "XqAbCiN5dXID"
      },
      "execution_count": null,
      "outputs": []
    },
    {
      "cell_type": "code",
      "source": [
        "# Criação de um novo Dataframe gas_df contendo 4 colunas [Revenda, Municipio, Produto, Valor de Venda], somente com GASOLINA #\n",
        "gas_df = ca_df.loc[ca_df['Produto'] == 'GASOLINA']\n",
        "display(gas_df)\n",
        "\n",
        "display(gas_df['Valor de Venda'].max(),'É o maior valor') # Filtro para o maior valor"
      ],
      "metadata": {
        "colab": {
          "base_uri": "https://localhost:8080/",
          "height": 461
        },
        "id": "owpDZPmYeU0q",
        "outputId": "eb1a0e47-48a9-417b-ae4e-2455054de1dc"
      },
      "execution_count": 7,
      "outputs": [
        {
          "output_type": "display_data",
          "data": {
            "text/plain": [
              "                                                  Revenda  \\\n",
              "0                                    POSTO ARAPIRACA LTDA   \n",
              "5                          AUTO POSTO FREITAS & MAIA LTDA   \n",
              "10                               AUTO POSTO DA PEDRA LTDA   \n",
              "14                  COMERCIO DE COMBUSTIVEIS NENZITA LTDA   \n",
              "19                         MARCOS ANTONIO DA SILVA CABRAL   \n",
              "...                                                   ...   \n",
              "168392                           AUTO POSTO KM BAURU LTDA   \n",
              "168394      COOPERCITRUS COOPERATIVA DE PRODUTORES RURAIS   \n",
              "168399  VICMAR COMERCIO DE COMBUSTIVEIS E LUBRIFICANTE...   \n",
              "168403         COMERCIAL DE COMBUSTIVEL CACHOEIRINHA LTDA   \n",
              "168405                  ABC DISTRIBUICAO DE PETROLEO LTDA   \n",
              "\n",
              "                    Municipio   Produto  Valor de Venda  \n",
              "0                   ARAPIRACA  GASOLINA           6.799  \n",
              "5             DELMIRO GOUVEIA  GASOLINA           7.198  \n",
              "10            DELMIRO GOUVEIA  GASOLINA           7.197  \n",
              "14            DELMIRO GOUVEIA  GASOLINA           7.175  \n",
              "19                ITACOATIARA  GASOLINA           6.990  \n",
              "...                       ...       ...             ...  \n",
              "168392                  BAURU  GASOLINA           6.199  \n",
              "168394              ITUIUTABA  GASOLINA           6.899  \n",
              "168399  CAMPOS DOS GOYTACAZES  GASOLINA           7.090  \n",
              "168403                 JEQUIE  GASOLINA           6.799  \n",
              "168405              ITUIUTABA  GASOLINA           6.580  \n",
              "\n",
              "[42209 rows x 4 columns]"
            ],
            "text/html": [
              "\n",
              "  <div id=\"df-d3ec94b9-7a3c-41c1-a23f-d1bd4cfd8a70\">\n",
              "    <div class=\"colab-df-container\">\n",
              "      <div>\n",
              "<style scoped>\n",
              "    .dataframe tbody tr th:only-of-type {\n",
              "        vertical-align: middle;\n",
              "    }\n",
              "\n",
              "    .dataframe tbody tr th {\n",
              "        vertical-align: top;\n",
              "    }\n",
              "\n",
              "    .dataframe thead th {\n",
              "        text-align: right;\n",
              "    }\n",
              "</style>\n",
              "<table border=\"1\" class=\"dataframe\">\n",
              "  <thead>\n",
              "    <tr style=\"text-align: right;\">\n",
              "      <th></th>\n",
              "      <th>Revenda</th>\n",
              "      <th>Municipio</th>\n",
              "      <th>Produto</th>\n",
              "      <th>Valor de Venda</th>\n",
              "    </tr>\n",
              "  </thead>\n",
              "  <tbody>\n",
              "    <tr>\n",
              "      <th>0</th>\n",
              "      <td>POSTO ARAPIRACA LTDA</td>\n",
              "      <td>ARAPIRACA</td>\n",
              "      <td>GASOLINA</td>\n",
              "      <td>6.799</td>\n",
              "    </tr>\n",
              "    <tr>\n",
              "      <th>5</th>\n",
              "      <td>AUTO POSTO FREITAS &amp; MAIA LTDA</td>\n",
              "      <td>DELMIRO GOUVEIA</td>\n",
              "      <td>GASOLINA</td>\n",
              "      <td>7.198</td>\n",
              "    </tr>\n",
              "    <tr>\n",
              "      <th>10</th>\n",
              "      <td>AUTO POSTO DA PEDRA LTDA</td>\n",
              "      <td>DELMIRO GOUVEIA</td>\n",
              "      <td>GASOLINA</td>\n",
              "      <td>7.197</td>\n",
              "    </tr>\n",
              "    <tr>\n",
              "      <th>14</th>\n",
              "      <td>COMERCIO DE COMBUSTIVEIS NENZITA LTDA</td>\n",
              "      <td>DELMIRO GOUVEIA</td>\n",
              "      <td>GASOLINA</td>\n",
              "      <td>7.175</td>\n",
              "    </tr>\n",
              "    <tr>\n",
              "      <th>19</th>\n",
              "      <td>MARCOS ANTONIO DA SILVA CABRAL</td>\n",
              "      <td>ITACOATIARA</td>\n",
              "      <td>GASOLINA</td>\n",
              "      <td>6.990</td>\n",
              "    </tr>\n",
              "    <tr>\n",
              "      <th>...</th>\n",
              "      <td>...</td>\n",
              "      <td>...</td>\n",
              "      <td>...</td>\n",
              "      <td>...</td>\n",
              "    </tr>\n",
              "    <tr>\n",
              "      <th>168392</th>\n",
              "      <td>AUTO POSTO KM BAURU LTDA</td>\n",
              "      <td>BAURU</td>\n",
              "      <td>GASOLINA</td>\n",
              "      <td>6.199</td>\n",
              "    </tr>\n",
              "    <tr>\n",
              "      <th>168394</th>\n",
              "      <td>COOPERCITRUS COOPERATIVA DE PRODUTORES RURAIS</td>\n",
              "      <td>ITUIUTABA</td>\n",
              "      <td>GASOLINA</td>\n",
              "      <td>6.899</td>\n",
              "    </tr>\n",
              "    <tr>\n",
              "      <th>168399</th>\n",
              "      <td>VICMAR COMERCIO DE COMBUSTIVEIS E LUBRIFICANTE...</td>\n",
              "      <td>CAMPOS DOS GOYTACAZES</td>\n",
              "      <td>GASOLINA</td>\n",
              "      <td>7.090</td>\n",
              "    </tr>\n",
              "    <tr>\n",
              "      <th>168403</th>\n",
              "      <td>COMERCIAL DE COMBUSTIVEL CACHOEIRINHA LTDA</td>\n",
              "      <td>JEQUIE</td>\n",
              "      <td>GASOLINA</td>\n",
              "      <td>6.799</td>\n",
              "    </tr>\n",
              "    <tr>\n",
              "      <th>168405</th>\n",
              "      <td>ABC DISTRIBUICAO DE PETROLEO LTDA</td>\n",
              "      <td>ITUIUTABA</td>\n",
              "      <td>GASOLINA</td>\n",
              "      <td>6.580</td>\n",
              "    </tr>\n",
              "  </tbody>\n",
              "</table>\n",
              "<p>42209 rows × 4 columns</p>\n",
              "</div>\n",
              "      <button class=\"colab-df-convert\" onclick=\"convertToInteractive('df-d3ec94b9-7a3c-41c1-a23f-d1bd4cfd8a70')\"\n",
              "              title=\"Convert this dataframe to an interactive table.\"\n",
              "              style=\"display:none;\">\n",
              "        \n",
              "  <svg xmlns=\"http://www.w3.org/2000/svg\" height=\"24px\"viewBox=\"0 0 24 24\"\n",
              "       width=\"24px\">\n",
              "    <path d=\"M0 0h24v24H0V0z\" fill=\"none\"/>\n",
              "    <path d=\"M18.56 5.44l.94 2.06.94-2.06 2.06-.94-2.06-.94-.94-2.06-.94 2.06-2.06.94zm-11 1L8.5 8.5l.94-2.06 2.06-.94-2.06-.94L8.5 2.5l-.94 2.06-2.06.94zm10 10l.94 2.06.94-2.06 2.06-.94-2.06-.94-.94-2.06-.94 2.06-2.06.94z\"/><path d=\"M17.41 7.96l-1.37-1.37c-.4-.4-.92-.59-1.43-.59-.52 0-1.04.2-1.43.59L10.3 9.45l-7.72 7.72c-.78.78-.78 2.05 0 2.83L4 21.41c.39.39.9.59 1.41.59.51 0 1.02-.2 1.41-.59l7.78-7.78 2.81-2.81c.8-.78.8-2.07 0-2.86zM5.41 20L4 18.59l7.72-7.72 1.47 1.35L5.41 20z\"/>\n",
              "  </svg>\n",
              "      </button>\n",
              "      \n",
              "  <style>\n",
              "    .colab-df-container {\n",
              "      display:flex;\n",
              "      flex-wrap:wrap;\n",
              "      gap: 12px;\n",
              "    }\n",
              "\n",
              "    .colab-df-convert {\n",
              "      background-color: #E8F0FE;\n",
              "      border: none;\n",
              "      border-radius: 50%;\n",
              "      cursor: pointer;\n",
              "      display: none;\n",
              "      fill: #1967D2;\n",
              "      height: 32px;\n",
              "      padding: 0 0 0 0;\n",
              "      width: 32px;\n",
              "    }\n",
              "\n",
              "    .colab-df-convert:hover {\n",
              "      background-color: #E2EBFA;\n",
              "      box-shadow: 0px 1px 2px rgba(60, 64, 67, 0.3), 0px 1px 3px 1px rgba(60, 64, 67, 0.15);\n",
              "      fill: #174EA6;\n",
              "    }\n",
              "\n",
              "    [theme=dark] .colab-df-convert {\n",
              "      background-color: #3B4455;\n",
              "      fill: #D2E3FC;\n",
              "    }\n",
              "\n",
              "    [theme=dark] .colab-df-convert:hover {\n",
              "      background-color: #434B5C;\n",
              "      box-shadow: 0px 1px 3px 1px rgba(0, 0, 0, 0.15);\n",
              "      filter: drop-shadow(0px 1px 2px rgba(0, 0, 0, 0.3));\n",
              "      fill: #FFFFFF;\n",
              "    }\n",
              "  </style>\n",
              "\n",
              "      <script>\n",
              "        const buttonEl =\n",
              "          document.querySelector('#df-d3ec94b9-7a3c-41c1-a23f-d1bd4cfd8a70 button.colab-df-convert');\n",
              "        buttonEl.style.display =\n",
              "          google.colab.kernel.accessAllowed ? 'block' : 'none';\n",
              "\n",
              "        async function convertToInteractive(key) {\n",
              "          const element = document.querySelector('#df-d3ec94b9-7a3c-41c1-a23f-d1bd4cfd8a70');\n",
              "          const dataTable =\n",
              "            await google.colab.kernel.invokeFunction('convertToInteractive',\n",
              "                                                     [key], {});\n",
              "          if (!dataTable) return;\n",
              "\n",
              "          const docLinkHtml = 'Like what you see? Visit the ' +\n",
              "            '<a target=\"_blank\" href=https://colab.research.google.com/notebooks/data_table.ipynb>data table notebook</a>'\n",
              "            + ' to learn more about interactive tables.';\n",
              "          element.innerHTML = '';\n",
              "          dataTable['output_type'] = 'display_data';\n",
              "          await google.colab.output.renderOutput(dataTable, element);\n",
              "          const docLink = document.createElement('div');\n",
              "          docLink.innerHTML = docLinkHtml;\n",
              "          element.appendChild(docLink);\n",
              "        }\n",
              "      </script>\n",
              "    </div>\n",
              "  </div>\n",
              "  "
            ]
          },
          "metadata": {}
        },
        {
          "output_type": "display_data",
          "data": {
            "text/plain": [
              "7.999"
            ]
          },
          "metadata": {}
        },
        {
          "output_type": "display_data",
          "data": {
            "text/plain": [
              "'É o maior valor'"
            ],
            "application/vnd.google.colaboratory.intrinsic+json": {
              "type": "string"
            }
          },
          "metadata": {}
        }
      ]
    },
    {
      "cell_type": "code",
      "source": [
        "# Dataframe.loc[] com múltiplas condições para filtragem, quais são os preços de ETANOL na minha cidade BLUMENAU-SC #\n",
        "etan_df = ca_df.loc[(ca_df['Produto'] == 'ETANOL') & (ca_df['Municipio'] == 'BLUMENAU')]\n",
        "display(etan_df)\n"
      ],
      "metadata": {
        "colab": {
          "base_uri": "https://localhost:8080/",
          "height": 423
        },
        "id": "CUjCT5mhJyXA",
        "outputId": "f07d432a-811f-4702-b85e-86d73b818da6"
      },
      "execution_count": 12,
      "outputs": [
        {
          "output_type": "display_data",
          "data": {
            "text/plain": [
              "                                  Revenda Municipio Produto  Valor de Venda\n",
              "10771           POSTO VILA GERMANICA LTDA  BLUMENAU  ETANOL           5.699\n",
              "10780                POSTO FORTALEZA LTDA  BLUMENAU  ETANOL           6.199\n",
              "10785                     POSTO Z 17 LTDA  BLUMENAU  ETANOL           6.299\n",
              "10790                   AUTO POSTO 7 LTDA  BLUMENAU  ETANOL           5.797\n",
              "10794      POSTO DE GASOLINA MORETTO LTDA  BLUMENAU  ETANOL           5.695\n",
              "...                                   ...       ...     ...             ...\n",
              "163237      POSTO DE SERVICOS BR BLU LTDA  BLUMENAU  ETANOL           5.995\n",
              "163240  L&E COMERCIO DE COMBUSTIVEIS LTDA  BLUMENAU  ETANOL           5.899\n",
              "164372        IZIDORO COMBUSTIVEIS EIRELI  BLUMENAU  ETANOL           5.769\n",
              "165821                     POSTO Z16 LTDA  BLUMENAU  ETANOL           5.999\n",
              "166300         AUTO POSTO DON JUAN EIRELI  BLUMENAU  ETANOL           5.999\n",
              "\n",
              "[120 rows x 4 columns]"
            ],
            "text/html": [
              "\n",
              "  <div id=\"df-83b50f77-7109-4737-a64f-918978afc929\">\n",
              "    <div class=\"colab-df-container\">\n",
              "      <div>\n",
              "<style scoped>\n",
              "    .dataframe tbody tr th:only-of-type {\n",
              "        vertical-align: middle;\n",
              "    }\n",
              "\n",
              "    .dataframe tbody tr th {\n",
              "        vertical-align: top;\n",
              "    }\n",
              "\n",
              "    .dataframe thead th {\n",
              "        text-align: right;\n",
              "    }\n",
              "</style>\n",
              "<table border=\"1\" class=\"dataframe\">\n",
              "  <thead>\n",
              "    <tr style=\"text-align: right;\">\n",
              "      <th></th>\n",
              "      <th>Revenda</th>\n",
              "      <th>Municipio</th>\n",
              "      <th>Produto</th>\n",
              "      <th>Valor de Venda</th>\n",
              "    </tr>\n",
              "  </thead>\n",
              "  <tbody>\n",
              "    <tr>\n",
              "      <th>10771</th>\n",
              "      <td>POSTO VILA GERMANICA LTDA</td>\n",
              "      <td>BLUMENAU</td>\n",
              "      <td>ETANOL</td>\n",
              "      <td>5.699</td>\n",
              "    </tr>\n",
              "    <tr>\n",
              "      <th>10780</th>\n",
              "      <td>POSTO FORTALEZA LTDA</td>\n",
              "      <td>BLUMENAU</td>\n",
              "      <td>ETANOL</td>\n",
              "      <td>6.199</td>\n",
              "    </tr>\n",
              "    <tr>\n",
              "      <th>10785</th>\n",
              "      <td>POSTO Z 17 LTDA</td>\n",
              "      <td>BLUMENAU</td>\n",
              "      <td>ETANOL</td>\n",
              "      <td>6.299</td>\n",
              "    </tr>\n",
              "    <tr>\n",
              "      <th>10790</th>\n",
              "      <td>AUTO POSTO 7 LTDA</td>\n",
              "      <td>BLUMENAU</td>\n",
              "      <td>ETANOL</td>\n",
              "      <td>5.797</td>\n",
              "    </tr>\n",
              "    <tr>\n",
              "      <th>10794</th>\n",
              "      <td>POSTO DE GASOLINA MORETTO LTDA</td>\n",
              "      <td>BLUMENAU</td>\n",
              "      <td>ETANOL</td>\n",
              "      <td>5.695</td>\n",
              "    </tr>\n",
              "    <tr>\n",
              "      <th>...</th>\n",
              "      <td>...</td>\n",
              "      <td>...</td>\n",
              "      <td>...</td>\n",
              "      <td>...</td>\n",
              "    </tr>\n",
              "    <tr>\n",
              "      <th>163237</th>\n",
              "      <td>POSTO DE SERVICOS BR BLU LTDA</td>\n",
              "      <td>BLUMENAU</td>\n",
              "      <td>ETANOL</td>\n",
              "      <td>5.995</td>\n",
              "    </tr>\n",
              "    <tr>\n",
              "      <th>163240</th>\n",
              "      <td>L&amp;E COMERCIO DE COMBUSTIVEIS LTDA</td>\n",
              "      <td>BLUMENAU</td>\n",
              "      <td>ETANOL</td>\n",
              "      <td>5.899</td>\n",
              "    </tr>\n",
              "    <tr>\n",
              "      <th>164372</th>\n",
              "      <td>IZIDORO COMBUSTIVEIS EIRELI</td>\n",
              "      <td>BLUMENAU</td>\n",
              "      <td>ETANOL</td>\n",
              "      <td>5.769</td>\n",
              "    </tr>\n",
              "    <tr>\n",
              "      <th>165821</th>\n",
              "      <td>POSTO Z16 LTDA</td>\n",
              "      <td>BLUMENAU</td>\n",
              "      <td>ETANOL</td>\n",
              "      <td>5.999</td>\n",
              "    </tr>\n",
              "    <tr>\n",
              "      <th>166300</th>\n",
              "      <td>AUTO POSTO DON JUAN EIRELI</td>\n",
              "      <td>BLUMENAU</td>\n",
              "      <td>ETANOL</td>\n",
              "      <td>5.999</td>\n",
              "    </tr>\n",
              "  </tbody>\n",
              "</table>\n",
              "<p>120 rows × 4 columns</p>\n",
              "</div>\n",
              "      <button class=\"colab-df-convert\" onclick=\"convertToInteractive('df-83b50f77-7109-4737-a64f-918978afc929')\"\n",
              "              title=\"Convert this dataframe to an interactive table.\"\n",
              "              style=\"display:none;\">\n",
              "        \n",
              "  <svg xmlns=\"http://www.w3.org/2000/svg\" height=\"24px\"viewBox=\"0 0 24 24\"\n",
              "       width=\"24px\">\n",
              "    <path d=\"M0 0h24v24H0V0z\" fill=\"none\"/>\n",
              "    <path d=\"M18.56 5.44l.94 2.06.94-2.06 2.06-.94-2.06-.94-.94-2.06-.94 2.06-2.06.94zm-11 1L8.5 8.5l.94-2.06 2.06-.94-2.06-.94L8.5 2.5l-.94 2.06-2.06.94zm10 10l.94 2.06.94-2.06 2.06-.94-2.06-.94-.94-2.06-.94 2.06-2.06.94z\"/><path d=\"M17.41 7.96l-1.37-1.37c-.4-.4-.92-.59-1.43-.59-.52 0-1.04.2-1.43.59L10.3 9.45l-7.72 7.72c-.78.78-.78 2.05 0 2.83L4 21.41c.39.39.9.59 1.41.59.51 0 1.02-.2 1.41-.59l7.78-7.78 2.81-2.81c.8-.78.8-2.07 0-2.86zM5.41 20L4 18.59l7.72-7.72 1.47 1.35L5.41 20z\"/>\n",
              "  </svg>\n",
              "      </button>\n",
              "      \n",
              "  <style>\n",
              "    .colab-df-container {\n",
              "      display:flex;\n",
              "      flex-wrap:wrap;\n",
              "      gap: 12px;\n",
              "    }\n",
              "\n",
              "    .colab-df-convert {\n",
              "      background-color: #E8F0FE;\n",
              "      border: none;\n",
              "      border-radius: 50%;\n",
              "      cursor: pointer;\n",
              "      display: none;\n",
              "      fill: #1967D2;\n",
              "      height: 32px;\n",
              "      padding: 0 0 0 0;\n",
              "      width: 32px;\n",
              "    }\n",
              "\n",
              "    .colab-df-convert:hover {\n",
              "      background-color: #E2EBFA;\n",
              "      box-shadow: 0px 1px 2px rgba(60, 64, 67, 0.3), 0px 1px 3px 1px rgba(60, 64, 67, 0.15);\n",
              "      fill: #174EA6;\n",
              "    }\n",
              "\n",
              "    [theme=dark] .colab-df-convert {\n",
              "      background-color: #3B4455;\n",
              "      fill: #D2E3FC;\n",
              "    }\n",
              "\n",
              "    [theme=dark] .colab-df-convert:hover {\n",
              "      background-color: #434B5C;\n",
              "      box-shadow: 0px 1px 3px 1px rgba(0, 0, 0, 0.15);\n",
              "      filter: drop-shadow(0px 1px 2px rgba(0, 0, 0, 0.3));\n",
              "      fill: #FFFFFF;\n",
              "    }\n",
              "  </style>\n",
              "\n",
              "      <script>\n",
              "        const buttonEl =\n",
              "          document.querySelector('#df-83b50f77-7109-4737-a64f-918978afc929 button.colab-df-convert');\n",
              "        buttonEl.style.display =\n",
              "          google.colab.kernel.accessAllowed ? 'block' : 'none';\n",
              "\n",
              "        async function convertToInteractive(key) {\n",
              "          const element = document.querySelector('#df-83b50f77-7109-4737-a64f-918978afc929');\n",
              "          const dataTable =\n",
              "            await google.colab.kernel.invokeFunction('convertToInteractive',\n",
              "                                                     [key], {});\n",
              "          if (!dataTable) return;\n",
              "\n",
              "          const docLinkHtml = 'Like what you see? Visit the ' +\n",
              "            '<a target=\"_blank\" href=https://colab.research.google.com/notebooks/data_table.ipynb>data table notebook</a>'\n",
              "            + ' to learn more about interactive tables.';\n",
              "          element.innerHTML = '';\n",
              "          dataTable['output_type'] = 'display_data';\n",
              "          await google.colab.output.renderOutput(dataTable, element);\n",
              "          const docLink = document.createElement('div');\n",
              "          docLink.innerHTML = docLinkHtml;\n",
              "          element.appendChild(docLink);\n",
              "        }\n",
              "      </script>\n",
              "    </div>\n",
              "  </div>\n",
              "  "
            ]
          },
          "metadata": {}
        }
      ]
    },
    {
      "cell_type": "code",
      "source": [
        "# etan_df com o menor valor até o maior#\n",
        "etan_df.sort_values(by = 'Valor de Venda', inplace=True)\n",
        "display(etan_df)"
      ],
      "metadata": {
        "id": "A4C7gLxgNVJY"
      },
      "execution_count": null,
      "outputs": []
    },
    {
      "cell_type": "code",
      "source": [
        "# Qual a média de preços dos combustíveis GASOLINA e GASOLINA ADITIVADA do bairo ITOUPAVA CENTRAL em BLUMENAU #\n",
        "itoupava_df = combustiveis_df.loc[(combustiveis_df['Bairro'] == 'ITOUPAVA CENTRAL')]\n",
        "\n",
        "media_df = itoupava_df.loc[(combustiveis_df['Produto'] == 'GASOLINA ADITIVADA') | (combustiveis_df['Produto'] == 'GASOLINA')]\n",
        "\n",
        "display(media_df.mean(axis='index'))"
      ],
      "metadata": {
        "colab": {
          "base_uri": "https://localhost:8080/",
          "height": 185
        },
        "id": "8DdKIETOPrMU",
        "outputId": "939c787c-5b2f-46b5-9e7e-c2d497721a41"
      },
      "execution_count": 77,
      "outputs": [
        {
          "output_type": "stream",
          "name": "stderr",
          "text": [
            "<ipython-input-77-66d9c4e10538>:4: FutureWarning: DataFrame.mean and DataFrame.median with numeric_only=None will include datetime64 and datetime64tz columns in a future version.\n",
            "  display(media_df.mean(axis='index'))\n",
            "<ipython-input-77-66d9c4e10538>:4: FutureWarning: Dropping of nuisance columns in DataFrame reductions (with 'numeric_only=None') is deprecated; in a future version this will raise TypeError.  Select only valid columns before calling the reduction.\n",
            "  display(media_df.mean(axis='index'))\n"
          ]
        },
        {
          "output_type": "display_data",
          "data": {
            "text/plain": [
              "Numero Rua         4006.962963\n",
              "Valor de Venda        6.610111\n",
              "Valor de Compra            NaN\n",
              "dtype: float64"
            ]
          },
          "metadata": {}
        }
      ]
    },
    {
      "cell_type": "markdown",
      "source": [
        "display(media_df.mean(axis='index'))"
      ],
      "metadata": {
        "id": "yFuLhUINaPmB"
      }
    }
  ]
}