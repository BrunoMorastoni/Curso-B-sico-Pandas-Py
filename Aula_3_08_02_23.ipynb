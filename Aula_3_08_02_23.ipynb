{
  "nbformat": 4,
  "nbformat_minor": 0,
  "metadata": {
    "colab": {
      "provenance": [],
      "authorship_tag": "ABX9TyPAqHZPFIKfdn/bJ9D8PwFd",
      "include_colab_link": true
    },
    "kernelspec": {
      "name": "python3",
      "display_name": "Python 3"
    },
    "language_info": {
      "name": "python"
    }
  },
  "cells": [
    {
      "cell_type": "markdown",
      "metadata": {
        "id": "view-in-github",
        "colab_type": "text"
      },
      "source": [
        "<a href=\"https://colab.research.google.com/github/BrunoMorastoni/Curso-Basico-Pandas-Py/blob/main/Aula_3_08_02_23.ipynb\" target=\"_parent\"><img src=\"https://colab.research.google.com/assets/colab-badge.svg\" alt=\"Open In Colab\"/></a>"
      ]
    },
    {
      "cell_type": "markdown",
      "source": [
        "# ***Exemplo de manipulação de dados usando o Panda Py***\n",
        "\n",
        "Autor: Bruno Giuseppe Morastoni\n",
        "\n",
        "Data: (06/02/23)\n",
        "\n",
        "Dados usados: [1º semestre de 2022](https://www.gov.br/anp/pt-br/centrais-de-conteudo/dados-abertos/arquivos/shpc/dsas/ca/precos-semestrais-ca.zip)"
      ],
      "metadata": {
        "id": "54FHMqhfUcNL"
      }
    },
    {
      "cell_type": "code",
      "execution_count": 1,
      "metadata": {
        "id": "cu_QK2Z5DjsT"
      },
      "outputs": [],
      "source": [
        "import pandas as pd"
      ]
    },
    {
      "cell_type": "code",
      "source": [
        "combustiveis_df = pd.read_excel(\"ca-2021-02.xlsx\")"
      ],
      "metadata": {
        "id": "mCXRprJW9aAC"
      },
      "execution_count": 3,
      "outputs": []
    },
    {
      "cell_type": "code",
      "source": [
        "# Meio feio # [Imprime a planilha] #\n",
        "print(combustiveis_df)"
      ],
      "metadata": {
        "id": "2nf4PkXfBfhu"
      },
      "execution_count": null,
      "outputs": []
    },
    {
      "cell_type": "code",
      "source": [
        "# Mais bonitinho # [Imprime a planilha / só q mais bonito] #\n",
        "display(combustiveis_df)"
      ],
      "metadata": {
        "id": "gwN28YTSCJKw"
      },
      "execution_count": null,
      "outputs": []
    },
    {
      "cell_type": "code",
      "source": [
        "# Exibição das x primeiras linhas # # display(combustiveis_df.head(x))\n",
        "display(combustiveis_df.head(5))"
      ],
      "metadata": {
        "id": "OgVHlcIuE-Bn"
      },
      "execution_count": null,
      "outputs": []
    },
    {
      "cell_type": "code",
      "source": [
        "# Cmd Dataframe.shape # [Apenas Nº de linhas e colunas / respectivamentes] #\n",
        "display(combustiveis_df.shape)\n",
        "display(combustiveis_df.shape[0])\n",
        "display(combustiveis_df.shape[1])"
      ],
      "metadata": {
        "id": "xHCTHWl8Hl7u"
      },
      "execution_count": null,
      "outputs": []
    },
    {
      "cell_type": "code",
      "source": [
        "# Cmd Dataframe.describe() # [Mostra estástisticas básicas] #\n",
        "display(combustiveis_df.describe())"
      ],
      "metadata": {
        "id": "aQR4CJiiIrOz"
      },
      "execution_count": null,
      "outputs": []
    },
    {
      "cell_type": "code",
      "source": [
        "# Cmd Dataframe.info() # [Mostra as colunas e os tipos de dados] #\n",
        "display(combustiveis_df.info())"
      ],
      "metadata": {
        "id": "1kcUGUQeKiRN"
      },
      "execution_count": null,
      "outputs": []
    },
    {
      "cell_type": "markdown",
      "source": [
        "# ***Começando a Filtrar as infos:***"
      ],
      "metadata": {
        "id": "Cj4QLdZZWwM2"
      }
    },
    {
      "cell_type": "code",
      "source": [
        "# Filtrando apenas uma coluna #\n",
        "display(combustiveis_df['Revenda'])"
      ],
      "metadata": {
        "id": "-HFiGjEiW3NN"
      },
      "execution_count": null,
      "outputs": []
    },
    {
      "cell_type": "code",
      "source": [
        "# Novo datadrame com colunas delimitadas *\n",
        "ca_df = combustiveis_df[['Revenda', 'Municipio', 'Produto', 'Valor de Venda']]\n",
        "\n",
        "display(ca_df)"
      ],
      "metadata": {
        "id": "m46OkjPgZvgz"
      },
      "execution_count": null,
      "outputs": []
    },
    {
      "cell_type": "code",
      "source": [
        "# Exibição da 4ª linha com o loc #\n",
        "display(ca_df.loc[3])"
      ],
      "metadata": {
        "id": "t0WMyfU5byl2"
      },
      "execution_count": null,
      "outputs": []
    },
    {
      "cell_type": "code",
      "source": [
        "# Exibição da 10ª linha té a 20ª linha #\n",
        "display(ca_df.loc[9:19])"
      ],
      "metadata": {
        "id": "XqAbCiN5dXID"
      },
      "execution_count": null,
      "outputs": []
    },
    {
      "cell_type": "code",
      "source": [
        "# Criação de um novo Dataframe gas_df contendo 4 colunas [Revenda, Municipio, Produto, Valor de Venda], somente com GASOLINA #\n",
        "gas_df = ca_df.loc[ca_df['Produto'] == 'GASOLINA']\n",
        "display(gas_df)\n",
        "\n",
        "display(gas_df['Valor de Venda'].max(),'É o maior valor') # Filtro para o maior valor"
      ],
      "metadata": {
        "id": "owpDZPmYeU0q"
      },
      "execution_count": null,
      "outputs": []
    },
    {
      "cell_type": "code",
      "source": [
        "# Dataframe.loc[] com múltiplas condições para filtragem, quais são os preços de ETANOL na minha cidade BLUMENAU-SC #\n",
        "etan_df = ca_df.loc[(ca_df['Produto'] == 'ETANOL') & (ca_df['Municipio'] == 'BLUMENAU')]\n",
        "display(etan_df)\n"
      ],
      "metadata": {
        "id": "CUjCT5mhJyXA"
      },
      "execution_count": null,
      "outputs": []
    },
    {
      "cell_type": "code",
      "source": [
        "# etan_df com o menor valor até o maior#\n",
        "etan_df.sort_values(by = 'Valor de Venda', inplace=True)\n",
        "display(etan_df)"
      ],
      "metadata": {
        "id": "A4C7gLxgNVJY"
      },
      "execution_count": null,
      "outputs": []
    },
    {
      "cell_type": "markdown",
      "source": [
        "*- Qual a média de preços dos combustíveis GASOLINA e GASOLINA ADITIVADA do bairo ITOUPAVA CENTRAL em BLUMENAU*"
      ],
      "metadata": {
        "id": "bwZtwo0Rghuq"
      }
    },
    {
      "cell_type": "code",
      "source": [
        "itoupava_df = combustiveis_df.loc[(combustiveis_df['Bairro'] == 'ITOUPAVA CENTRAL')]\n",
        "\n",
        "media_df = itoupava_df.loc[(combustiveis_df['Produto'] == 'GASOLINA ADITIVADA') | (combustiveis_df['Produto'] == 'GASOLINA')]\n",
        "display(media_df)"
      ],
      "metadata": {
        "id": "8DdKIETOPrMU"
      },
      "execution_count": null,
      "outputs": []
    },
    {
      "cell_type": "code",
      "source": [
        "# Continuação de cima com a Média sendo demonstrada #\n",
        "display(media_df['Valor de Venda'].mean())"
      ],
      "metadata": {
        "id": "lXlNGxBieowJ"
      },
      "execution_count": null,
      "outputs": []
    },
    {
      "cell_type": "markdown",
      "source": [
        "*- Média de Combustível em todo Brasil*"
      ],
      "metadata": {
        "id": "59_ygkgJgYp0"
      }
    },
    {
      "cell_type": "code",
      "source": [
        "m_combus_df = ca_df[['Produto', 'Valor de Venda']].groupby(by='Produto').mean()\n",
        "display(m_combus_df)"
      ],
      "metadata": {
        "colab": {
          "base_uri": "https://localhost:8080/",
          "height": 269
        },
        "id": "9RSi3HcpgbtK",
        "outputId": "464f4eb3-3dea-47e9-e0e1-97afefd20665"
      },
      "execution_count": 117,
      "outputs": [
        {
          "output_type": "display_data",
          "data": {
            "text/plain": [
              "                    Valor de Venda\n",
              "Produto                           \n",
              "DIESEL                    5.375682\n",
              "DIESEL S10                5.454901\n",
              "ETANOL                    5.456115\n",
              "GASOLINA                  6.708741\n",
              "GASOLINA ADITIVADA        6.860422\n",
              "GNV                       4.392935"
            ],
            "text/html": [
              "\n",
              "  <div id=\"df-27f962d1-274b-4698-8754-6b0bc77e9ff5\">\n",
              "    <div class=\"colab-df-container\">\n",
              "      <div>\n",
              "<style scoped>\n",
              "    .dataframe tbody tr th:only-of-type {\n",
              "        vertical-align: middle;\n",
              "    }\n",
              "\n",
              "    .dataframe tbody tr th {\n",
              "        vertical-align: top;\n",
              "    }\n",
              "\n",
              "    .dataframe thead th {\n",
              "        text-align: right;\n",
              "    }\n",
              "</style>\n",
              "<table border=\"1\" class=\"dataframe\">\n",
              "  <thead>\n",
              "    <tr style=\"text-align: right;\">\n",
              "      <th></th>\n",
              "      <th>Valor de Venda</th>\n",
              "    </tr>\n",
              "    <tr>\n",
              "      <th>Produto</th>\n",
              "      <th></th>\n",
              "    </tr>\n",
              "  </thead>\n",
              "  <tbody>\n",
              "    <tr>\n",
              "      <th>DIESEL</th>\n",
              "      <td>5.375682</td>\n",
              "    </tr>\n",
              "    <tr>\n",
              "      <th>DIESEL S10</th>\n",
              "      <td>5.454901</td>\n",
              "    </tr>\n",
              "    <tr>\n",
              "      <th>ETANOL</th>\n",
              "      <td>5.456115</td>\n",
              "    </tr>\n",
              "    <tr>\n",
              "      <th>GASOLINA</th>\n",
              "      <td>6.708741</td>\n",
              "    </tr>\n",
              "    <tr>\n",
              "      <th>GASOLINA ADITIVADA</th>\n",
              "      <td>6.860422</td>\n",
              "    </tr>\n",
              "    <tr>\n",
              "      <th>GNV</th>\n",
              "      <td>4.392935</td>\n",
              "    </tr>\n",
              "  </tbody>\n",
              "</table>\n",
              "</div>\n",
              "      <button class=\"colab-df-convert\" onclick=\"convertToInteractive('df-27f962d1-274b-4698-8754-6b0bc77e9ff5')\"\n",
              "              title=\"Convert this dataframe to an interactive table.\"\n",
              "              style=\"display:none;\">\n",
              "        \n",
              "  <svg xmlns=\"http://www.w3.org/2000/svg\" height=\"24px\"viewBox=\"0 0 24 24\"\n",
              "       width=\"24px\">\n",
              "    <path d=\"M0 0h24v24H0V0z\" fill=\"none\"/>\n",
              "    <path d=\"M18.56 5.44l.94 2.06.94-2.06 2.06-.94-2.06-.94-.94-2.06-.94 2.06-2.06.94zm-11 1L8.5 8.5l.94-2.06 2.06-.94-2.06-.94L8.5 2.5l-.94 2.06-2.06.94zm10 10l.94 2.06.94-2.06 2.06-.94-2.06-.94-.94-2.06-.94 2.06-2.06.94z\"/><path d=\"M17.41 7.96l-1.37-1.37c-.4-.4-.92-.59-1.43-.59-.52 0-1.04.2-1.43.59L10.3 9.45l-7.72 7.72c-.78.78-.78 2.05 0 2.83L4 21.41c.39.39.9.59 1.41.59.51 0 1.02-.2 1.41-.59l7.78-7.78 2.81-2.81c.8-.78.8-2.07 0-2.86zM5.41 20L4 18.59l7.72-7.72 1.47 1.35L5.41 20z\"/>\n",
              "  </svg>\n",
              "      </button>\n",
              "      \n",
              "  <style>\n",
              "    .colab-df-container {\n",
              "      display:flex;\n",
              "      flex-wrap:wrap;\n",
              "      gap: 12px;\n",
              "    }\n",
              "\n",
              "    .colab-df-convert {\n",
              "      background-color: #E8F0FE;\n",
              "      border: none;\n",
              "      border-radius: 50%;\n",
              "      cursor: pointer;\n",
              "      display: none;\n",
              "      fill: #1967D2;\n",
              "      height: 32px;\n",
              "      padding: 0 0 0 0;\n",
              "      width: 32px;\n",
              "    }\n",
              "\n",
              "    .colab-df-convert:hover {\n",
              "      background-color: #E2EBFA;\n",
              "      box-shadow: 0px 1px 2px rgba(60, 64, 67, 0.3), 0px 1px 3px 1px rgba(60, 64, 67, 0.15);\n",
              "      fill: #174EA6;\n",
              "    }\n",
              "\n",
              "    [theme=dark] .colab-df-convert {\n",
              "      background-color: #3B4455;\n",
              "      fill: #D2E3FC;\n",
              "    }\n",
              "\n",
              "    [theme=dark] .colab-df-convert:hover {\n",
              "      background-color: #434B5C;\n",
              "      box-shadow: 0px 1px 3px 1px rgba(0, 0, 0, 0.15);\n",
              "      filter: drop-shadow(0px 1px 2px rgba(0, 0, 0, 0.3));\n",
              "      fill: #FFFFFF;\n",
              "    }\n",
              "  </style>\n",
              "\n",
              "      <script>\n",
              "        const buttonEl =\n",
              "          document.querySelector('#df-27f962d1-274b-4698-8754-6b0bc77e9ff5 button.colab-df-convert');\n",
              "        buttonEl.style.display =\n",
              "          google.colab.kernel.accessAllowed ? 'block' : 'none';\n",
              "\n",
              "        async function convertToInteractive(key) {\n",
              "          const element = document.querySelector('#df-27f962d1-274b-4698-8754-6b0bc77e9ff5');\n",
              "          const dataTable =\n",
              "            await google.colab.kernel.invokeFunction('convertToInteractive',\n",
              "                                                     [key], {});\n",
              "          if (!dataTable) return;\n",
              "\n",
              "          const docLinkHtml = 'Like what you see? Visit the ' +\n",
              "            '<a target=\"_blank\" href=https://colab.research.google.com/notebooks/data_table.ipynb>data table notebook</a>'\n",
              "            + ' to learn more about interactive tables.';\n",
              "          element.innerHTML = '';\n",
              "          dataTable['output_type'] = 'display_data';\n",
              "          await google.colab.output.renderOutput(dataTable, element);\n",
              "          const docLink = document.createElement('div');\n",
              "          docLink.innerHTML = docLinkHtml;\n",
              "          element.appendChild(docLink);\n",
              "        }\n",
              "      </script>\n",
              "    </div>\n",
              "  </div>\n",
              "  "
            ]
          },
          "metadata": {}
        }
      ]
    },
    {
      "cell_type": "markdown",
      "source": [
        "*- Adicionando uma coluna de valor booleano no combustiveis_df, chamda de \"Ativo\" que por seu padrão seja True*"
      ],
      "metadata": {
        "id": "-ITRN_fbkvVE"
      }
    },
    {
      "cell_type": "code",
      "source": [
        "combustiveis_df['Ativo'] = True\n",
        "display(combustiveis_df.info())"
      ],
      "metadata": {
        "id": "KqwMtIHFk5CA"
      },
      "execution_count": null,
      "outputs": []
    },
    {
      "cell_type": "markdown",
      "source": [
        "*- Adicionando uma coluna chamada \"Obs\" que preencha automaticamente \"MELHOR CIDADE\" quando o município for BLUMENAU - SC*"
      ],
      "metadata": {
        "id": "sV4qJpDlmQU7"
      }
    },
    {
      "cell_type": "code",
      "source": [
        "combustiveis_df['Obs'] = "
      ],
      "metadata": {
        "id": "X47gIHUGmf7p"
      },
      "execution_count": null,
      "outputs": []
    },
    {
      "cell_type": "markdown",
      "source": [
        "*- Exportar para Excel o dataframe da média de combustível no brasil*"
      ],
      "metadata": {
        "id": "g0reU43ZnnvZ"
      }
    },
    {
      "cell_type": "code",
      "source": [
        "m_combus_df.to_excel(\"MediaBr.xlsx\", sheet_name='Media Gasolina No Brasil')"
      ],
      "metadata": {
        "id": "xT9ohjADpLWd"
      },
      "execution_count": 119,
      "outputs": []
    }
  ]
}